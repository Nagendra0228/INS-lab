{
  "nbformat": 4,
  "nbformat_minor": 0,
  "metadata": {
    "colab": {
      "provenance": []
    },
    "kernelspec": {
      "name": "python3",
      "display_name": "Python 3"
    },
    "language_info": {
      "name": "python"
    }
  },
  "cells": [
    {
      "cell_type": "code",
      "execution_count": 1,
      "metadata": {
        "colab": {
          "base_uri": "https://localhost:8080/"
        },
        "id": "TWE6OpGed2mT",
        "outputId": "bb2745cc-0f4b-4901-98e2-c90330db51dd"
      },
      "outputs": [
        {
          "output_type": "stream",
          "name": "stdout",
          "text": [
            "['a', 'b', 'c', 'd', 'e', 'f', 'g', 'h', 'i', 'j', 'k', 'l', 'm', 'n', 'o', 'p', 'q', 'r', 's', 't', 'u', 'v', 'w', 'x', 'y', 'z']\n",
            "['q', 'u', 'w', 'l', 'p', 'x', 'g', 'r', 'y', 't', 'a', 'n', 'z', 'j', 'd', 'k', 'f', 'o', 'm', 'b', 'c', 'h', 's', 'e', 'v', 'i']\n"
          ]
        }
      ],
      "source": [
        "import string  # Import the string module to access predefined character sets\n",
        "import random  # Import the random module for generating random values\n",
        "\n",
        "# Create a list of all lowercase letters (a-z)\n",
        "l = list(string.ascii_lowercase)\n",
        "\n",
        "# Initialize an empty list to store the shuffled letters\n",
        "l1 = []\n",
        "\n",
        "# Loop until l1 contains all unique letters from l\n",
        "while len(l1) < len(l):\n",
        "    a = random.choice(l)  # Pick a random letter from the original list\n",
        "\n",
        "    if a not in l1:  # Ensure uniqueness before adding to the new list\n",
        "        l1.append(a)\n",
        "\n",
        "# Print the original list of lowercase letters\n",
        "print(l)\n",
        "\n",
        "# Print the randomly shuffled list with unique letters\n",
        "print(l1)\n"
      ]
    },
    {
      "cell_type": "code",
      "source": [
        "# Take plaintext input from the user\n",
        "pt = input(\"Enter pt: \")\n",
        "\n",
        "# Initialize an empty string for ciphertext\n",
        "ct = \"\"\n",
        "\n",
        "# Encrypt the plaintext using the randomized letter mapping\n",
        "for i in pt:\n",
        "    ct += l1[l.index(i)]  # Find the index of the letter in the original list and replace it with the corresponding letter from l1\n",
        "\n",
        "# Print the encrypted text\n",
        "print(\"ct:\", ct)\n",
        "\n",
        "# Initialize an empty string to store the decrypted text\n",
        "pt = \"\"\n",
        "\n",
        "# Decrypt the ciphertext back to plaintext\n",
        "for i in ct:\n",
        "    pt += l[l1.index(i)]  # Find the index of the encrypted letter in l1 and replace it with the corresponding letter from l\n",
        "\n",
        "# Print the decrypted text (original plaintext)\n",
        "print(\"pt:\", pt)\n"
      ],
      "metadata": {
        "colab": {
          "base_uri": "https://localhost:8080/"
        },
        "id": "tIxppYlAeHz1",
        "outputId": "f775777b-675d-40cd-fd5a-4a3c1077a9cb"
      },
      "execution_count": 2,
      "outputs": [
        {
          "output_type": "stream",
          "name": "stdout",
          "text": [
            "Enter pt: hi\n",
            "ct: ry\n",
            "pt: hi\n"
          ]
        }
      ]
    },
    {
      "cell_type": "code",
      "source": [],
      "metadata": {
        "id": "_iEM_Xpff8Dq"
      },
      "execution_count": null,
      "outputs": []
    }
  ]
}