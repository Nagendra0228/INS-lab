{
  "nbformat": 4,
  "nbformat_minor": 0,
  "metadata": {
    "colab": {
      "provenance": []
    },
    "kernelspec": {
      "name": "python3",
      "display_name": "Python 3"
    },
    "language_info": {
      "name": "python"
    }
  },
  "cells": [
    {
      "cell_type": "code",
      "execution_count": 1,
      "metadata": {
        "id": "T39h9z98RCmd"
      },
      "outputs": [],
      "source": [
        "def create_playfair_matrix(key):\n",
        "    # Define the alphabet used in the Playfair cipher (excluding 'J')\n",
        "    alphabet = \"ABCDEFGHIKLMNOPQRSTUVWXYZ\"  # 'J' is merged with 'I'\n",
        "\n",
        "    # Initialize an empty matrix to store the 5x5 grid\n",
        "    matrix = []\n",
        "\n",
        "    # Convert the key to uppercase, replace 'J' with 'I', and remove duplicate characters\n",
        "    # Also, append the alphabet to ensure all letters are included in the matrix\n",
        "    key = \"\".join(dict.fromkeys(key.upper().replace(\"J\", \"I\") + alphabet))\n",
        "\n",
        "    # Fill the matrix row by row with 5 letters each\n",
        "    for i in range(0, 25, 5):\n",
        "        matrix.append(list(key[i:i+5]))  # Add a row of 5 letters to the matrix\n",
        "\n",
        "    return matrix  # Return the generated Playfair cipher matrix\n"
      ]
    },
    {
      "cell_type": "code",
      "source": [
        "def find_position(matrix, char):\n",
        "    # Iterate through each row of the 5x5 Playfair matrix\n",
        "    for row in range(5):\n",
        "        # Iterate through each column of the current row\n",
        "        for col in range(5):\n",
        "            # If the character is found in the matrix, return its position (row, column)\n",
        "            if matrix[row][col] == char:\n",
        "                return row, col\n"
      ],
      "metadata": {
        "id": "BWykDKElbU46"
      },
      "execution_count": 2,
      "outputs": []
    },
    {
      "cell_type": "code",
      "source": [
        "def playfair_encrypt(plaintext, key):\n",
        "    # Generate the Playfair cipher 5x5 matrix using the provided key\n",
        "    matrix = create_playfair_matrix(key)\n",
        "\n",
        "    # Convert plaintext to uppercase and replace 'J' with 'I' (as per Playfair cipher rules)\n",
        "    # Also, remove spaces to ensure continuous encryption\n",
        "    plaintext = plaintext.upper().replace(\"J\", \"I\").replace(\" \", \"\")\n",
        "\n",
        "    # If the length of the plaintext is odd, append 'X' as padding\n",
        "    if len(plaintext) % 2 != 0:\n",
        "        plaintext += \"X\"\n",
        "\n",
        "    # Initialize an empty string to store the ciphertext\n",
        "    ciphertext = \"\"\n",
        "\n",
        "    # Process the plaintext two characters at a time\n",
        "    for i in range(0, len(plaintext), 2):\n",
        "        a, b = plaintext[i], plaintext[i + 1]  # Extract two consecutive characters\n",
        "\n",
        "        # Find the positions of both characters in the Playfair matrix\n",
        "        row1, col1 = find_position(matrix, a)\n",
        "        row2, col2 = find_position(matrix, b)\n",
        "\n",
        "        # Rule 1: If both letters are in the same row, replace each with the next letter in that row (circular shift)\n",
        "        if row1 == row2:\n",
        "            ciphertext += matrix[row1][(col1 + 1) % 5] + matrix[row2][(col2 + 1) % 5]\n",
        "\n",
        "        # Rule 2: If both letters are in the same column, replace each with the letter below in the column (circular shift)\n",
        "        elif col1 == col2:\n",
        "            ciphertext += matrix[(row1 + 1) % 5][col1] + matrix[(row2 + 1) % 5][col2]\n",
        "\n",
        "        # Rule 3: If letters form a rectangle, swap their column positions\n",
        "        else:\n",
        "            ciphertext += matrix[row1][col2] + matrix[row2][col1]\n",
        "\n",
        "    return ciphertext  # Return the encrypted text\n"
      ],
      "metadata": {
        "id": "-oH9HxXvbcw6"
      },
      "execution_count": 3,
      "outputs": []
    },
    {
      "cell_type": "code",
      "source": [
        "def playfair_decrypt(plaintext, key):\n",
        "    # Generate the Playfair cipher 5x5 matrix using the provided key\n",
        "    matrix = create_playfair_matrix(key)\n",
        "\n",
        "    # Initialize an empty string to store the decrypted text\n",
        "    ciphertext = \"\"\n",
        "\n",
        "    # Process the ciphertext two characters at a time\n",
        "    for i in range(0, len(plaintext), 2):\n",
        "        a, b = plaintext[i], plaintext[i + 1]  # Extract two consecutive characters\n",
        "\n",
        "        # Find the positions of both characters in the Playfair matrix\n",
        "        row1, col1 = find_position(matrix, a)\n",
        "        row2, col2 = find_position(matrix, b)\n",
        "\n",
        "        # Rule 1: If both letters are in the same row, replace each with the letter to its left (circular shift)\n",
        "        if row1 == row2:\n",
        "            ciphertext += matrix[row1][(col1 - 1) % 5] + matrix[row2][(col2 - 1) % 5]\n",
        "\n",
        "        # Rule 2: If both letters are in the same column, replace each with the letter above it (circular shift)\n",
        "        elif col1 == col2:\n",
        "            ciphertext += matrix[(row1 - 1) % 5][col1] + matrix[(row2 - 1) % 5][col2]\n",
        "\n",
        "        # Rule 3: If letters form a rectangle, swap their column positions while keeping rows the same\n",
        "        else:\n",
        "            ciphertext += matrix[row1][col2] + matrix[row2][col1]\n",
        "\n",
        "    return ciphertext  # Return the decrypted text\n"
      ],
      "metadata": {
        "id": "Y3RzYdG1RFW6"
      },
      "execution_count": 4,
      "outputs": []
    },
    {
      "cell_type": "code",
      "source": [
        "# Example usage of the Playfair cipher encryption and decryption\n",
        "\n",
        "# Define the plaintext message to be encrypted\n",
        "plaintext = \"HELLO\"\n",
        "\n",
        "# Define the key to generate the Playfair cipher matrix\n",
        "key = \"KEYWORD\"\n",
        "\n",
        "# Encrypt the plaintext using the Playfair cipher\n",
        "ct = playfair_encrypt(plaintext, key)\n",
        "\n",
        "# Print the encrypted text (ciphertext)\n",
        "print(\"Encrypted:\", ct)\n",
        "\n",
        "# Decrypt the ciphertext back to plaintext using the Playfair cipher\n",
        "print(\"Decrypted:\", playfair_decrypt(ct, key))\n"
      ],
      "metadata": {
        "colab": {
          "base_uri": "https://localhost:8080/"
        },
        "id": "OZmBoz4nTWCe",
        "outputId": "14f6e222-6f71-4808-ebba-ba8e2075a768"
      },
      "execution_count": 5,
      "outputs": [
        {
          "output_type": "stream",
          "name": "stdout",
          "text": [
            "Encrypted: GYFFWZ\n",
            "Decrypted: HELLOX\n"
          ]
        }
      ]
    },
    {
      "cell_type": "code",
      "source": [],
      "metadata": {
        "id": "V9WK_WZ0wy50"
      },
      "execution_count": null,
      "outputs": []
    }
  ]
}