{
  "nbformat": 4,
  "nbformat_minor": 0,
  "metadata": {
    "colab": {
      "provenance": []
    },
    "kernelspec": {
      "name": "python3",
      "display_name": "Python 3"
    },
    "language_info": {
      "name": "python"
    }
  },
  "cells": [
    {
      "cell_type": "code",
      "execution_count": 2,
      "metadata": {
        "id": "rEhEV7wKyZ6K"
      },
      "outputs": [],
      "source": [
        "def vigenere_encrypt(plaintext, key):\n",
        "    \"\"\"Encrypts the plaintext using the Vigenère cipher.\"\"\"\n",
        "\n",
        "    key = key.upper()  # Convert key to uppercase for consistency\n",
        "    ciphertext = \"\"  # Stores the encrypted text\n",
        "    key_index = 0  # Tracks position in the key\n",
        "\n",
        "    for char in plaintext.upper():  # Convert plaintext to uppercase and iterate\n",
        "        if char.isalpha():  # Encrypt only alphabetic characters\n",
        "            shift = ord(key[key_index]) - ord('A')  # Compute shift value from key\n",
        "            ciphertext += chr((ord(char) - ord('A') + shift) % 26 + ord('A'))  # Apply shift and wrap around within A-Z\n",
        "            key_index = (key_index + 1) % len(key)  # Move to the next letter in the key (cyclic)\n",
        "        else:\n",
        "            ciphertext += char  # Non-alphabetic characters remain unchanged\n",
        "\n",
        "    return ciphertext  # Return the encrypted text\n"
      ]
    },
    {
      "cell_type": "code",
      "source": [
        "def vigenere_decrypt(ciphertext, key):\n",
        "    \"\"\"Decrypts the ciphertext using the Vigenère cipher.\"\"\"\n",
        "\n",
        "    key = key.upper()  # Convert key to uppercase for consistency\n",
        "    plaintext = \"\"  # Stores the decrypted text\n",
        "    key_index = 0  # Tracks position in the key\n",
        "\n",
        "    for char in ciphertext.upper():  # Convert ciphertext to uppercase and iterate\n",
        "        if char.isalpha():  # Decrypt only alphabetic characters\n",
        "            shift = ord(key[key_index]) - ord('A')  # Compute shift value from key\n",
        "            plaintext += chr((ord(char) - ord('A') - shift) % 26 + ord('A'))  # Reverse shift to get original character\n",
        "            key_index = (key_index + 1) % len(key)  # Move to the next letter in the key (cyclic)\n",
        "        else:\n",
        "            plaintext += char  # Non-alphabetic characters remain unchanged\n",
        "\n",
        "    return plaintext  # Return the decrypted text\n"
      ],
      "metadata": {
        "id": "Z8ryQoqHyoRQ"
      },
      "execution_count": 3,
      "outputs": []
    },
    {
      "cell_type": "code",
      "source": [
        "# Example usage\n",
        "plaintext = \"HELLO\"  # Input message\n",
        "key = \"KEY\"  # Encryption key\n",
        "\n",
        "# Encrypt the plaintext\n",
        "encrypted_text = vigenere_encrypt(plaintext, key)\n",
        "# Decrypt the ciphertext\n",
        "decrypted_text = vigenere_decrypt(encrypted_text, key)\n",
        "\n",
        "# Display results\n",
        "print(\"Encrypted:\", encrypted_text)  # Output encrypted text\n",
        "print(\"Decrypted:\", decrypted_text)  # Output decrypted text (should match original plaintext)\n"
      ],
      "metadata": {
        "colab": {
          "base_uri": "https://localhost:8080/"
        },
        "id": "ieJFTsS7zNfX",
        "outputId": "a304e387-69c9-4cd1-8ec7-5a28fa5c09f3"
      },
      "execution_count": 4,
      "outputs": [
        {
          "output_type": "stream",
          "name": "stdout",
          "text": [
            "Encrypted: RIJVS\n",
            "Decrypted: HELLO\n"
          ]
        }
      ]
    }
  ]
}