{
  "nbformat": 4,
  "nbformat_minor": 0,
  "metadata": {
    "colab": {
      "provenance": []
    },
    "kernelspec": {
      "name": "python3",
      "display_name": "Python 3"
    },
    "language_info": {
      "name": "python"
    }
  },
  "cells": [
    {
      "cell_type": "code",
      "source": [
        "def to_binary(text):\n",
        "    \"\"\"\n",
        "    Convert a given string to its 8-bit binary representation.\n",
        "    Each character is converted to its ASCII value and then to an 8-bit binary string.\n",
        "    \"\"\"\n",
        "    return \"\".join(format(ord(i), '08b') for i in text)\n"
      ],
      "metadata": {
        "id": "Rxvu5puxLajL"
      },
      "execution_count": null,
      "outputs": []
    },
    {
      "cell_type": "code",
      "source": [
        "def from_binary(binary_str):\n",
        "    \"\"\"\n",
        "    Convert a binary string back to its plaintext representation.\n",
        "    The binary string is split into 8-bit chunks, converted to decimal, then to characters.\n",
        "    \"\"\"\n",
        "    plain_text = \"\"\n",
        "    for i in range(0, len(binary_str), 8):\n",
        "        temp = binary_str[i:i+8]  # Extract 8-bit chunk\n",
        "        plain_text += chr(int(temp, 2))  # Convert to character and append\n",
        "    return plain_text\n"
      ],
      "metadata": {
        "id": "OTtR0ra-MUem"
      },
      "execution_count": null,
      "outputs": []
    },
    {
      "cell_type": "code",
      "source": [
        "def adjust_key(binary_key, length):\n",
        "    \"\"\"\n",
        "    Ensure the key length matches the required length.\n",
        "    - If the key is longer, truncate it.\n",
        "    - If the key is shorter, pad it with zeros.\n",
        "    \"\"\"\n",
        "    if len(binary_key) > length:\n",
        "        return binary_key[:length]  # Truncate key if too long\n",
        "    return binary_key.ljust(length, '0')  # Pad with zeros if too short\n"
      ],
      "metadata": {
        "id": "8JSjAZ3FSr5A"
      },
      "execution_count": null,
      "outputs": []
    },
    {
      "cell_type": "code",
      "source": [
        "def feistel_encrypt(plain_text, key):\n",
        "    \"\"\"\n",
        "    Encrypt the plaintext using a **single round** of the Feistel cipher.\n",
        "    \"\"\"\n",
        "    # Convert plaintext to binary\n",
        "    binary_text = to_binary(plain_text)\n",
        "    print(\"Plaintext (Binary):\", binary_text)  # Display plaintext in binary\n",
        "\n",
        "    # Split binary string into left and right halves\n",
        "    l = len(binary_text) // 2\n",
        "    left, right = binary_text[:l], binary_text[l:]\n",
        "\n",
        "    # Convert key to binary and adjust its length\n",
        "    binary_key = to_binary(key)\n",
        "    binary_key = adjust_key(binary_key, len(right))\n",
        "\n",
        "    # Feistel round function: XOR right half with key\n",
        "    f = bin(int(right, 2) ^ int(binary_key, 2))[2:].zfill(l)\n",
        "\n",
        "    # Swap halves and apply XOR operation\n",
        "    new_left, new_right = right, bin(int(left, 2) ^ int(f, 2))[2:].zfill(l)\n",
        "\n",
        "    # Concatenate the new halves to get the ciphertext\n",
        "    cipher = new_left + new_right\n",
        "    return cipher\n"
      ],
      "metadata": {
        "id": "cLslQcoDSvsI"
      },
      "execution_count": null,
      "outputs": []
    },
    {
      "cell_type": "code",
      "source": [
        "def feistel_decrypt(cipher_text, key):\n",
        "    \"\"\"\n",
        "    Decrypt the ciphertext using a **single round** of the Feistel cipher.\n",
        "    \"\"\"\n",
        "    # Split ciphertext into left and right halves\n",
        "    l = len(cipher_text) // 2\n",
        "    left, right = cipher_text[:l], cipher_text[l:]\n",
        "\n",
        "    # Convert key to binary and adjust its length\n",
        "    binary_key = to_binary(key)\n",
        "    binary_key = adjust_key(binary_key, len(right))\n",
        "\n",
        "    # Reverse Feistel round function: XOR left half with key\n",
        "    f = bin(int(left, 2) ^ int(binary_key, 2))[2:].zfill(l)\n",
        "\n",
        "    # Reverse the XOR operation and swap halves back\n",
        "    new_left, new_right = bin(int(right, 2) ^ int(f, 2))[2:].zfill(l), left\n",
        "\n",
        "    # Combine halves to reconstruct the plaintext in binary\n",
        "    decrypted_binary = new_left + new_right\n",
        "\n",
        "    # Convert binary back to plaintext\n",
        "    return decrypted_binary, from_binary(decrypted_binary)\n"
      ],
      "metadata": {
        "id": "9auDYPdDSzD4"
      },
      "execution_count": null,
      "outputs": []
    },
    {
      "cell_type": "code",
      "source": [
        "# Get user input for plaintext and key\n",
        "plain_text = input(\"Enter a string: \")\n",
        "key = input(\"Enter a key: \")\n",
        "\n",
        "# Perform encryption\n",
        "cipher_text = feistel_encrypt(plain_text, key)\n",
        "print(\"Cipher (Binary):\", cipher_text)\n",
        "\n",
        "# Perform decryption\n",
        "decrypted_binary, decrypted_text = feistel_decrypt(cipher_text, key)\n",
        "print(\"Decrypted (Binary):\", decrypted_binary)\n",
        "print(\"Decrypted Text:\", decrypted_text)\n"
      ],
      "metadata": {
        "colab": {
          "base_uri": "https://localhost:8080/"
        },
        "id": "wkRr8vpXS1Mf",
        "outputId": "24a076d0-83cc-44f9-c117-cf59bafafd4f"
      },
      "execution_count": null,
      "outputs": [
        {
          "output_type": "stream",
          "name": "stdout",
          "text": [
            "Enter a string: hi \n",
            "Enter a key: hello\n",
            "Plaintext (Binary): 011010000110100100100000\n",
            "Cipher (Binary): 100100100000100100100000\n",
            "Decrypted (Binary): 011010000110100100100000\n",
            "Decrypted Text: hi \n"
          ]
        }
      ]
    }
  ]
}