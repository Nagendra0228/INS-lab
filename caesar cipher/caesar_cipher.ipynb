{
  "nbformat": 4,
  "nbformat_minor": 0,
  "metadata": {
    "colab": {
      "provenance": []
    },
    "kernelspec": {
      "name": "python3",
      "display_name": "Python 3"
    },
    "language_info": {
      "name": "python"
    }
  },
  "cells": [
    {
      "cell_type": "markdown",
      "source": [
        "# **Easy**"
      ],
      "metadata": {
        "id": "QiHnZ8pcHYz9"
      }
    },
    {
      "cell_type": "code",
      "execution_count": 6,
      "metadata": {
        "id": "6408RwLNHQQg"
      },
      "outputs": [],
      "source": [
        "#usew ascii_lowercase from string\n",
        "import string\n",
        "l=list(string.ascii_lowercase)"
      ]
    },
    {
      "cell_type": "code",
      "source": [
        "# Function to encrypt plaintext using the Caesar Cipher technique\n",
        "def ent(pt, k):\n",
        "    ct = \"\"  # Initialize an empty string for the ciphertext\n",
        "    for i in pt:\n",
        "        ct += l[(l.index(i) + k) % 26]  # Find the index of the character, shift it, and append the new character\n",
        "    return ct  # Return the encrypted text"
      ],
      "metadata": {
        "id": "NXIThUZUIjOe"
      },
      "execution_count": 3,
      "outputs": []
    },
    {
      "cell_type": "code",
      "source": [
        "# Function to decrypt ciphertext using the Caesar Cipher technique\n",
        "def dct(pt, k):\n",
        "    ct = \"\"  # Initialize an empty string for the decrypted text\n",
        "    for i in pt:\n",
        "        ct += l[(l.index(i) - k) % 26]  # Find the index of the character, shift it backward, and append the new character\n",
        "    return ct  # Return the decrypted text"
      ],
      "metadata": {
        "id": "JnQGlBZ5LeuC"
      },
      "execution_count": 4,
      "outputs": []
    },
    {
      "cell_type": "code",
      "source": [
        "# Take the shift key as input from the user\n",
        "k = int(input(\"Enter key: \"))\n",
        "\n",
        "# Take the plaintext input from the user\n",
        "pt = input(\"Enter pt: \")\n",
        "\n",
        "# Encrypt the plaintext using the Caesar Cipher encryption function\n",
        "ct = ent(pt, k)\n",
        "\n",
        "# Print the encrypted text (ciphertext)\n",
        "print(\"ct:\", ct)\n",
        "\n",
        "# Decrypt the ciphertext back to plaintext using the decryption function\n",
        "print(\"dt:\", dct(ct, k))  # Print the decrypted text (original message)\n"
      ],
      "metadata": {
        "colab": {
          "base_uri": "https://localhost:8080/"
        },
        "id": "nu_nwW-zHmfF",
        "outputId": "7b8904d6-43f0-4021-c396-881498af67b4"
      },
      "execution_count": 7,
      "outputs": [
        {
          "output_type": "stream",
          "name": "stdout",
          "text": [
            "Enter key: 3\n",
            "Enter pt: hi\n",
            "ct: kl\n",
            "dt: hi\n"
          ]
        }
      ]
    },
    {
      "cell_type": "markdown",
      "source": [
        "# **Medium**"
      ],
      "metadata": {
        "id": "jedAv3aPtPpa"
      }
    },
    {
      "cell_type": "code",
      "source": [
        "# Function to perform Caesar Cipher encryption and decryption\n",
        "def caesar_cipher(text, shift, encrypt=True):\n",
        "    result = \"\"  # Initialize an empty string for the result\n",
        "\n",
        "    # If decryption is required, reverse the shift\n",
        "    if not encrypt:\n",
        "        shift = -shift\n",
        "\n",
        "    for char in text:\n",
        "        # Check if the character is a letter (ignoring numbers and symbols)\n",
        "        if char.isalpha():\n",
        "            # Determine the ASCII base value (uppercase or lowercase)\n",
        "            shift_base = ord('A') if char.isupper() else ord('a')\n",
        "\n",
        "            # Shift the character within the 26-letter alphabet and append to result\n",
        "            result += chr((ord(char) - shift_base + shift) % 26 + shift_base)\n",
        "        else:\n",
        "            # Keep non-alphabetic characters unchanged\n",
        "            result += char\n",
        "\n",
        "    return result  # Return the final encrypted or decrypted text\n",
        "\n",
        "# Example usage:\n",
        "text = \"Hello, World!\"  # Input text to be encrypted\n",
        "shift = 3  # Shift value for encryption\n",
        "\n",
        "# Encrypt the text\n",
        "encrypted_text = caesar_cipher(text, shift, encrypt=True)\n",
        "\n",
        "# Decrypt the text back to original form\n",
        "decrypted_text = caesar_cipher(encrypted_text, shift, encrypt=False)\n",
        "\n",
        "# Display results\n",
        "print(\"Encrypted:\", encrypted_text)  # Output encrypted text\n",
        "print(\"Decrypted:\", decrypted_text)  # Output decrypted text\n"
      ],
      "metadata": {
        "colab": {
          "base_uri": "https://localhost:8080/"
        },
        "id": "W5yDK_uMtO41",
        "outputId": "294878cc-0180-437f-f99e-88b7a61d7f49"
      },
      "execution_count": 8,
      "outputs": [
        {
          "output_type": "stream",
          "name": "stdout",
          "text": [
            "Encrypted: Khoor, Zruog!\n",
            "Decrypted: Hello, World!\n"
          ]
        }
      ]
    },
    {
      "cell_type": "markdown",
      "source": [
        "# **Explanation:**\n",
        "1. Encryption: Each letter in the text is shifted forward by the given shift value.\n",
        "2. Decryption: The shift is reversed to retrieve the original text.\n",
        "3. Handles uppercase & lowercase letters while keeping special characters unchanged."
      ],
      "metadata": {
        "id": "bCTOOLYgtwKu"
      }
    }
  ]
}