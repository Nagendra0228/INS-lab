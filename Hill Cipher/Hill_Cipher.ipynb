{
  "nbformat": 4,
  "nbformat_minor": 0,
  "metadata": {
    "colab": {
      "provenance": []
    },
    "kernelspec": {
      "name": "python3",
      "display_name": "Python 3"
    },
    "language_info": {
      "name": "python"
    }
  },
  "cells": [
    {
      "cell_type": "code",
      "execution_count": 1,
      "metadata": {
        "id": "o5Pdurr6CaiZ"
      },
      "outputs": [],
      "source": [
        "# Import the NumPy library for numerical computations and array operations\n",
        "import numpy as np\n"
      ]
    },
    {
      "cell_type": "code",
      "source": [
        "def mod_inverse(a, m):\n",
        "    \"\"\"Finds the modular inverse of a under modulo m using brute force.\"\"\"\n",
        "\n",
        "    # Ensure 'a' is within the modulo range\n",
        "    a = a % m\n",
        "\n",
        "    # Iterate through all possible values from 1 to m-1\n",
        "    for x in range(1, m):\n",
        "        # Check if (a * x) % m == 1, meaning x is the modular inverse of a\n",
        "        if (a * x) % m == 1:\n",
        "            return x  # Return the modular inverse\n",
        "\n",
        "    return None  # If no modular inverse exists, return None\n"
      ],
      "metadata": {
        "id": "qszxshGSCsQm"
      },
      "execution_count": 2,
      "outputs": []
    },
    {
      "cell_type": "code",
      "source": [
        "def hill_cipher_encrypt(plaintext, key_matrix):\n",
        "    \"\"\"Encrypts plaintext using the Hill Cipher.\"\"\"\n",
        "\n",
        "    n = len(key_matrix)  # Determine the size of the key matrix (n x n)\n",
        "\n",
        "    # Convert plaintext to uppercase and remove spaces\n",
        "    plaintext = plaintext.upper().replace(\" \", \"\")\n",
        "\n",
        "    # Padding if the plaintext length is not a multiple of n\n",
        "    if len(plaintext) % n != 0:\n",
        "        plaintext += \"X\" * (n - len(plaintext) % n)  # Append 'X' as padding\n",
        "\n",
        "    # Convert plaintext characters to numerical representation (A=0, B=1, ..., Z=25)\n",
        "    plaintext_vector = [ord(char) - ord('A') for char in plaintext]\n",
        "\n",
        "    ciphertext = \"\"  # Initialize ciphertext string\n",
        "\n",
        "    # Process the plaintext in blocks of size 'n'\n",
        "    for i in range(0, len(plaintext_vector), n):\n",
        "        block = plaintext_vector[i:i + n]  # Extract a block of n elements\n",
        "\n",
        "        # Multiply key matrix with the plaintext block and apply modulo 26\n",
        "        result = np.dot(key_matrix, block) % 26\n",
        "\n",
        "        # Convert the numerical result back to characters and append to ciphertext\n",
        "        ciphertext += \"\".join(chr(num + ord('A')) for num in result)\n",
        "\n",
        "    return ciphertext  # Return the encrypted text\n"
      ],
      "metadata": {
        "id": "H6CrS8z8CwRn"
      },
      "execution_count": 3,
      "outputs": []
    },
    {
      "cell_type": "code",
      "source": [
        "def hill_cipher_decrypt(ciphertext, key_matrix):\n",
        "    \"\"\"Decrypts ciphertext using the Hill Cipher.\"\"\"\n",
        "\n",
        "    n = len(key_matrix)  # Determine the size of the key matrix (n x n)\n",
        "\n",
        "    # Compute determinant of the key matrix and take modulo 26\n",
        "    determinant = int(round(np.linalg.det(key_matrix))) % 26\n",
        "\n",
        "    # Compute modular inverse of the determinant under mod 26\n",
        "    mod_inv = mod_inverse(determinant, 26)\n",
        "\n",
        "    # If no modular inverse exists, the key matrix is not invertible\n",
        "    if mod_inv is None:\n",
        "        raise ValueError(\"Key matrix is not invertible under mod 26\")\n",
        "\n",
        "    # Compute the adjugate (adjoint) matrix, rounded and taken modulo 26\n",
        "    adjugate = np.round(determinant * np.linalg.inv(key_matrix)).astype(int) % 26\n",
        "\n",
        "    # Compute inverse key matrix in mod 26\n",
        "    inverse_key_matrix = (mod_inv * adjugate) % 26\n",
        "\n",
        "    # Convert ciphertext characters to numerical representation (A=0, B=1, ..., Z=25)\n",
        "    ciphertext_vector = [ord(char) - ord('A') for char in ciphertext]\n",
        "\n",
        "    plaintext = \"\"  # Initialize decrypted plaintext string\n",
        "\n",
        "    # Process the ciphertext in blocks of size 'n'\n",
        "    for i in range(0, len(ciphertext_vector), n):\n",
        "        block = ciphertext_vector[i:i + n]  # Extract a block of n elements\n",
        "\n",
        "        # Multiply inverse key matrix with the ciphertext block and apply modulo 26\n",
        "        result = np.dot(inverse_key_matrix, block) % 26\n",
        "\n",
        "        # Convert the numerical result back to characters and append to plaintext\n",
        "        plaintext += \"\".join(chr(num + ord('A')) for num in result)\n",
        "\n",
        "    return plaintext  # Return the decrypted text\n"
      ],
      "metadata": {
        "id": "tLn1NEGLC0dY"
      },
      "execution_count": 4,
      "outputs": []
    },
    {
      "cell_type": "code",
      "source": [
        "# Example usage of Hill Cipher\n",
        "\n",
        "plaintext = \"HELLO\"  # Input plaintext message\n",
        "key_matrix = np.array([[6, 24, 1], [13, 16, 10], [20, 17, 15]])  # Example 3x3 key matrix\n",
        "\n",
        "# Ensure the plaintext length is a multiple of the matrix size (3x3 in this case)\n",
        "if len(plaintext) % key_matrix.shape[0] != 0:\n",
        "    plaintext += \"X\" * (key_matrix.shape[0] - len(plaintext) % key_matrix.shape[0])\n",
        "    # If not, pad with 'X' to make the length a multiple of 3\n",
        "\n",
        "# Encrypt the plaintext using the Hill Cipher encryption function\n",
        "encrypted_text = hill_cipher_encrypt(plaintext, key_matrix)\n",
        "print(\"Encrypted:\", encrypted_text)  # Display the encrypted text\n",
        "\n",
        "# Decrypt the encrypted text back to the original plaintext\n",
        "print(\"Decrypted:\", hill_cipher_decrypt(encrypted_text, key_matrix))  # Display the decrypted text\n"
      ],
      "metadata": {
        "colab": {
          "base_uri": "https://localhost:8080/"
        },
        "id": "WxT802WHEHmR",
        "outputId": "1eb603ba-4803-45af-c362-4d5bd6ed6836"
      },
      "execution_count": 6,
      "outputs": [
        {
          "output_type": "stream",
          "name": "stdout",
          "text": [
            "Encrypted: TFJJZX\n",
            "Decrypted: GHNKVN\n"
          ]
        }
      ]
    },
    {
      "cell_type": "code",
      "source": [],
      "metadata": {
        "id": "xlUP6CUCx3Ja"
      },
      "execution_count": null,
      "outputs": []
    }
  ]
}